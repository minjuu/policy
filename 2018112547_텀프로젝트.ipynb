{
  "cells": [
    {
      "metadata": {},
      "cell_type": "markdown",
      "source": "### Player2018112547"
    },
    {
      "metadata": {
        "trusted": true
      },
      "cell_type": "code",
      "source": "class Player2018112547():\n    \n    def __init__(self):\n        self.name = \"2018112547\"\n        self.num_playout = 85\n        \n    def select_action(self, env, player):\n        available_action = env.get_action()\n        V = np.zeros(len(available_action))\n        \n        for i in range(len(available_action)):\n            for j in range(self.num_playout):\n                temp_env = copy.deepcopy(env)\n                self.playout(temp_env, available_action[i], player)\n                if player == temp_env.reward:\n                    V[i] += 1\n   \n        return available_action[np.argmax(V)]    \n  \n    def playout(self, temp_env, action, player):\n        \n        temp_env.board_a[action] = player\n        temp_env.end_check(player)\n        \n        if temp_env.done == True:\n            return \n        else:\n            player = -player\n            available_action = temp_env.get_action()\n            action = np.random.randint(len(available_action))\n            self.playout(temp_env, available_action[action], player)",
      "execution_count": null,
      "outputs": []
    }
  ],
  "metadata": {
    "kernelspec": {
      "name": "python3",
      "display_name": "Python 3",
      "language": "python"
    },
    "language_info": {
      "mimetype": "text/x-python",
      "nbconvert_exporter": "python",
      "name": "python",
      "pygments_lexer": "ipython3",
      "version": "3.5.4",
      "file_extension": ".py",
      "codemirror_mode": {
        "version": 3,
        "name": "ipython"
      }
    }
  },
  "nbformat": 4,
  "nbformat_minor": 4
}